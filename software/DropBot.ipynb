{
 "metadata": {
  "name": "",
  "signature": "sha256:4554b61653791b5879c1a0072784998edc0b0e6c2341db2fe25943723e828d98"
 },
 "nbformat": 3,
 "nbformat_minor": 0,
 "worksheets": [
  {
   "cells": [
    {
     "cell_type": "heading",
     "level": 1,
     "metadata": {},
     "source": [
      "MicroDrop software"
     ]
    },
    {
     "cell_type": "heading",
     "level": 2,
     "metadata": {},
     "source": [
      "Plugin architecture"
     ]
    },
    {
     "cell_type": "markdown",
     "metadata": {},
     "source": [
      "Overview of the MicroDrop [plugin architecture][1].\n",
      "\n",
      "[1]: 14-07-15-Fobel,%20Christian-Microdrop%20plugin%20tutorial.pptx"
     ]
    },
    {
     "cell_type": "heading",
     "level": 2,
     "metadata": {},
     "source": [
      "Plugin events/signals"
     ]
    },
    {
     "cell_type": "markdown",
     "metadata": {},
     "source": [
      "The following are a list of the events/signals most commonly used by MicroDrop plugins."
     ]
    },
    {
     "cell_type": "markdown",
     "metadata": {},
     "source": [
      " - `on_app_exit`\n",
      "  - Allows plugin to perform clean-up before closing the MicroDrop application.\n",
      " - `on_app_options_changed`\n",
      "  - The application-wide settings for a plugin have been updated.\n",
      "  - Provides reference to the plugin with changed options.\n",
      " - `on_dmf_device_changed`\n",
      "  - A DMF device has been loaded.\n",
      "  - Provides reference to loaded DMF device.\n",
      " - `on_dmf_device_swapped`\n",
      "  - A new DMF device has been loaded, after a DMF device had already been loaded.\n",
      "  - Provides reference to _1)_ loaded DMF device, and _2)_ previously loaded device.\n",
      " - `on_gui_ready`\n",
      "  - The main application window has been drawn.\n",
      "  - Useful if plugin needs to, e.g., add menu to GUI.\n",
      " - `on_plugin_disabled`\n",
      "  - Allows plugin to perform clean-up after being disabled.\n",
      " - `on_plugin_enable`\n",
      "  - Allows plugin to perform initialization after being enabled.\n",
      " - `on_protocol_changed\u2019\n",
      "  - A protocol has been loaded or created.\n",
      "  - Provides reference to new protocol.\n",
      " - `on_protocol_swapped`\n",
      "  - A new protocol has been loaded/created, after a protocol had already been loaded.\n",
      "  - Provides reference to _1)_ loaded/created protocol, and _2)_ previously loaded protocol.\n",
      " - `on_protocol_pause\u2019\n",
      "  - A running protocol has been paused.\n",
      " - `on_protocol_run\u2019\n",
      "  - A protocol has been started, _e.g.,_ by pressing play.\n",
      " - `on_step_created`\n",
      "  - A new protocol step has been created.\n",
      " - `on_step_options_changed`\n",
      "  - The settings for a protocol step have been updated.\n",
      "  - Provides reference to _1)_ the plugin with changed options, and _2)_ the step number.\n",
      " - `on_step_removed`\n",
      "  - A step has been removed from the protocol.\n",
      "  - Provides reference to _1)_ the step number of the removed step _(before removing)_, and _2)_ the removed step.\n",
      " - `on_step_swapped`\n",
      "  - A new protocol step has been loaded or created.\n",
      "  - Provides reference to _1)_ loaded/created step, and _2)_ previously active step.\n",
      "  - Can check state of application to see if _a)_ protocol is running, _b)_ we're running in real-time mode."
     ]
    },
    {
     "cell_type": "heading",
     "level": 2,
     "metadata": {},
     "source": [
      "DMF control board plugin"
     ]
    },
    {
     "cell_type": "markdown",
     "metadata": {},
     "source": [
      "```python\n",
      "    from microdrop.plugin_manager import Plugin\n",
      "    from microdrop.plugin_helpers import (StepOptionsController, AppDataController,\n",
      "                                          get_plugin_info)\n",
      "\n",
      "\n",
      "    class DMFControlBoardPlugin(Plugin, StepOptionsController, AppDataController):\n",
      "        \"\"\"\n",
      "        This class is automatically registered with the PluginManager.\n",
      "        \"\"\"\n",
      "        \n",
      "        ...\n",
      "```"
     ]
    },
    {
     "cell_type": "heading",
     "level": 3,
     "metadata": {},
     "source": [
      "Application-wide settings for a plugin"
     ]
    },
    {
     "cell_type": "markdown",
     "metadata": {},
     "source": [
      " - Add `AppFields` to our plugin class\n",
      " - `AppFields` defines a list of fields for which a value should be saved for the plugin\n",
      " - Each _\"field\"_ specifies the type and validating restrictions for a corresponding _\"option\"_ value\n",
      "   - _\"field\"_ $\\rightarrow$ type _(think `int`, `bool`, `string`, etc.)_.\n",
      "   - _\"option\"_ $\\rightarrow$ value _(think `0`, `True`, `\"hello\"`, etc.)_"
     ]
    },
    {
     "cell_type": "markdown",
     "metadata": {},
     "source": [
      "```python\n",
      "        ...\n",
      "        \n",
      "        AppFields = Form.of(\n",
      "            Integer.named('sampling_time_ms').using(default=10, optional=True,\n",
      "                                                    validators=\n",
      "                                                    [ValueAtLeast(minimum=0), ],),\n",
      "            Integer.named('delay_between_samples_ms')\n",
      "            .using(default=0, optional=True, validators=[ValueAtLeast(minimum=0),\n",
      "                                                         ],),\n",
      "            Enum.named('serial_port').using(default=default_port_,\n",
      "                                            optional=True).valued(*serial_ports_),\n",
      "            Integer.named('baud_rate')\n",
      "            .using(default=115200, optional=True, validators=[ValueAtLeast(minimum=0),\n",
      "                                                         ],),\n",
      "            Boolean.named('auto_atx_power_off').using(default=True, optional=True),\n",
      "        )\n",
      "        \n",
      "        ...\n",
      "```"
     ]
    },
    {
     "cell_type": "markdown",
     "metadata": {},
     "source": [
      "### Per-protocol-step settings for each plugin ###"
     ]
    },
    {
     "cell_type": "markdown",
     "metadata": {},
     "source": [
      " - Adding `StepFields` is similar to `AppFields`\n",
      " - `StepFields` defines list of fields for which values should be stored for each step of a protocol\n",
      " - Example: `dmf_control_board`\n",
      "  - Waveform voltage\n",
      "  - Waveform frequency\n",
      "  - Feedback enabled"
     ]
    },
    {
     "cell_type": "markdown",
     "metadata": {},
     "source": [
      "```python\n",
      "        ...\n",
      "\n",
      "        StepFields = Form.of(\n",
      "            Integer.named('duration').using(default=100, optional=True,\n",
      "                                            validators=\n",
      "                                            [ValueAtLeast(minimum=0), ]),\n",
      "            Float.named('voltage').using(default=100, optional=True,\n",
      "                                         validators=[ValueAtLeast(minimum=0), ]),\n",
      "            Float.named('frequency').using(default=1e3, optional=True,\n",
      "                                           validators=[ValueAtLeast(minimum=0), ]),\n",
      "            Boolean.named('feedback_enabled').using(default=True, optional=True),\n",
      "        )\n",
      "```"
     ]
    },
    {
     "cell_type": "heading",
     "level": 3,
     "metadata": {},
     "source": [
      "Updating DMF state based on settings of current protocol step"
     ]
    },
    {
     "cell_type": "markdown",
     "metadata": {},
     "source": [
      "To apply the settings for the current step of the protocol, we define the method `on_step_swapped`.  This method will be called by the MicroDrop software every time control changes from one protocol step to another."
     ]
    },
    {
     "cell_type": "markdown",
     "metadata": {},
     "source": [
      "```python\n",
      "        ...\n",
      "        \n",
      "        def on_step_swapped(self, old_step_number, step_number):\n",
      "            app = get_app()\n",
      "            if not app.dmf_device:\n",
      "                return\n",
      "            options = self.get_step_options()\n",
      "            state_of_channels = options.state_of_channels\n",
      "            for id, electrode in app.dmf_device.electrodes.iteritems():\n",
      "                channels = app.dmf_device.electrodes[id].channels\n",
      "                if channels:\n",
      "                    # Get the state(s) of the channel(s) connected to this electrode.\n",
      "                    states = state_of_channels[channels]\n",
      "\n",
      "                    # If all of the states are the same.\n",
      "                    if len(np.nonzero(states == states[0])[0]) == len(states):\n",
      "                        if states[0] > 0:\n",
      "                            self.view.electrode_color[id] = (1,1,1)\n",
      "                        else:\n",
      "                            color = app.dmf_device.electrodes[id].path.color\n",
      "                            self.view.electrode_color[id] = [c / 255. for c in color]\n",
      "                else:\n",
      "                    self.view.electrode_color[id] = (1,0,0)\n",
      "```"
     ]
    }
   ],
   "metadata": {}
  }
 ]
}