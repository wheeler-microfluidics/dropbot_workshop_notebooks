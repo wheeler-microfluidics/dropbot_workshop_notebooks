{
 "metadata": {
  "name": "",
  "signature": "sha256:f58a4d7416682a503d64e688d12f73df848cb895a86fb59487065e79b1d0e08f"
 },
 "nbformat": 3,
 "nbformat_minor": 0,
 "worksheets": [
  {
   "cells": [
    {
     "cell_type": "heading",
     "level": 1,
     "metadata": {},
     "source": [
      "Extension module board"
     ]
    },
    {
     "cell_type": "markdown",
     "metadata": {},
     "source": [
      "<div id=\"toc\" style=\"max-height: 539px;\"><ol><li><a href=\"#Overview\">Overview</a></li><li><a href=\"#Included-components\">Included components</a></li><li><a href=\"#Flash-firmware\">Flash firmware</a></li><ol><li><a href=\"#Step-1---Select-serial-port-and-board\">Step 1 - Select serial port and board</a></li></ol><li><a href=\"#Python-interface\">Python interface</a></li><ol><li><a href=\"#Step-1---Connect-to-board\">Step 1 - Connect to board</a></li><li><a href=\"#Step-2---Set-pin-13-as-a-digital-OUTPUT\">Step 2 - Set pin 13 as a digital </a></li><li><a href=\"#Step-3---Turn-LED-on\">Step 3 - Turn LED on</a></li><li><a href=\"#Step-3---Turn-LED-off\">Step 3 - Turn LED off</a></li><li><a href=\"#Step-4---Read-an-analog-value-based-on-the-position-of-the-potentiometer\">Step 4 - Read an analog value based on the position of the potentiometer</a></li><li><a href=\"#Step-5---1D-Etch-a-sketch!\">Step 5 - 1D Etch-a-sketch!</a></li></ol></ol></div>"
     ]
    },
    {
     "cell_type": "markdown",
     "metadata": {},
     "source": [
      "<img style=\"width: 500px;\" src=\"images/IMG_20140710_150827.jpg\" />"
     ]
    },
    {
     "cell_type": "heading",
     "level": 2,
     "metadata": {},
     "source": [
      "Overview"
     ]
    },
    {
     "cell_type": "heading",
     "level": 2,
     "metadata": {},
     "source": [
      "Included components"
     ]
    },
    {
     "cell_type": "markdown",
     "metadata": {},
     "source": [
      "To help you get started, we've connected components to two of the pins on the Arduino:\n",
      "\n",
      " 1. An LED is connected to digital pin 13.\n",
      " 2. A potentiometer _(i.e., a variable resistor)_ is connected to analog pin 0.\n",
      "\n",
      "See the photo above to locate the LED and potentiometer."
     ]
    },
    {
     "cell_type": "heading",
     "level": 2,
     "metadata": {},
     "source": [
      "Connect extension module device"
     ]
    },
    {
     "cell_type": "markdown",
     "metadata": {},
     "source": [
      "To interface with the extension module, we connect the USB-to-serial cable between your computer to the extension module board.\n",
      "\n",
      "Pay special attention to the orientation of the cable end attached to the extension module cord."
     ]
    },
    {
     "cell_type": "markdown",
     "metadata": {},
     "source": [
      "<table>\n",
      "<tr>\n",
      "<td>\n",
      "<img style=\"width: 400px; \" src=\"images/IMG_20140710_152032.jpg\" />\n",
      "</td>\n",
      "<td>\n",
      "<img style=\"width: 200px; \" src=\"images/ftdi-connector.png\" />\n",
      "</td>\n",
      "</tr>\n",
      "</table>"
     ]
    },
    {
     "cell_type": "heading",
     "level": 2,
     "metadata": {},
     "source": [
      "Flash firmware"
     ]
    },
    {
     "cell_type": "markdown",
     "metadata": {},
     "source": [
      "Here, we demonstrate how to load the Python interface program onto the Arduino-compatible extension module board.  Note that the Python interface program can be loaded onto either the `uno` board _(the extension module board)_ or the `mega2560` board _(the control board Arduino)_."
     ]
    },
    {
     "cell_type": "heading",
     "level": 3,
     "metadata": {},
     "source": [
      "Step 1 - Select serial port and board"
     ]
    },
    {
     "cell_type": "code",
     "collapsed": false,
     "input": [
      "from IPython.display import display, clear_output\n",
      "from IPython.html.widgets import (SelectWidget, DropdownWidget,\n",
      "                                  ContainerWidget, CheckboxWidget)\n",
      "from serial_device import get_serial_ports\n",
      "from arduino_rpc import get_firmwares\n",
      "from arduino_helpers.bin.upload import auto_context, Board, Uploader\n",
      "\n",
      "# Configure an uploader object to flash an [Uno][1]-compatible board.\n",
      "#\n",
      "# [1]: http://arduino.cc/en/Main/arduinoBoardUno\n",
      "context = auto_context()\n",
      "\n",
      "# Create a drop-down menu to select serial port.\n",
      "serial_port_selector = DropdownWidget(description='Serial port',\n",
      "                                      values=list(get_serial_ports()))\n",
      "# Create a drop-down menu to select an Arduino board.\n",
      "board_selector = DropdownWidget(description='Arduino board type',\n",
      "                                values=get_firmwares().keys()[::-1])\n",
      "config = ContainerWidget(children=[serial_port_selector, board_selector])\n",
      "config"
     ],
     "language": "python",
     "metadata": {},
     "outputs": [],
     "prompt_number": 40
    },
    {
     "cell_type": "heading",
     "level": 3,
     "metadata": {},
     "source": [
      "Step 2 - Upload Arduino-RPC firmware to device on selected port"
     ]
    },
    {
     "cell_type": "code",
     "collapsed": false,
     "input": [
      "# Upload the Arduino-RPC firmware to the device\n",
      "board = Board(context, board_selector.value)\n",
      "uploader = Uploader(board)\n",
      "uploader.upload(get_firmwares()[board_selector.value][0],\n",
      "                serial_port_selector.value)"
     ],
     "language": "python",
     "metadata": {},
     "outputs": [
      {
       "metadata": {},
       "output_type": "pyout",
       "prompt_number": 41,
       "text": [
        "''"
       ]
      }
     ],
     "prompt_number": 41
    },
    {
     "cell_type": "heading",
     "level": 2,
     "metadata": {},
     "source": [
      "Python interface"
     ]
    },
    {
     "cell_type": "markdown",
     "metadata": {},
     "source": [
      "Now that we've uploaded the Arduino RPC firmware, we will connect to the board using a Python interface.  Once connected, we'll:\n",
      "\n",
      " - Toggle the state of a LED.\n",
      " - Read the rotational orientation of a potentiometer."
     ]
    },
    {
     "cell_type": "heading",
     "level": 3,
     "metadata": {},
     "source": [
      "Step 1 - Connect to board"
     ]
    },
    {
     "cell_type": "code",
     "collapsed": false,
     "input": [
      "from arduino_rpc.board import ArduinoRPCBoard\n",
      "\n",
      "board = ArduinoRPCBoard(serial_port_selector.value)\n",
      "print 'Connected to: %s' % serial_port_selector.value"
     ],
     "language": "python",
     "metadata": {},
     "outputs": [
      {
       "output_type": "stream",
       "stream": "stdout",
       "text": [
        "\n",
        "total memory:"
       ]
      },
      {
       "output_type": "stream",
       "stream": "stdout",
       "text": [
        " 2047\n",
        "free memory: 422\n",
        "Connected to: /dev/ttyUSB1\n"
       ]
      }
     ],
     "prompt_number": 42
    },
    {
     "cell_type": "heading",
     "level": 3,
     "metadata": {},
     "source": [
      "Step 2 - Set pin 13 as a digital `OUTPUT`"
     ]
    },
    {
     "cell_type": "markdown",
     "metadata": {},
     "source": [
      "By convention, on most Arduino-compatible boards, digital pin 13 is connected to an LED.  As shown above, we've attached an LED to pin 13 for demonstration and for visual feedback.\n",
      "\n",
      "To control the state of the LED, we first need to configure pin 13 as an output pin.  This is done using the [`pin_mode`][pin_mode] method.\n",
      "\n",
      "[pin_mode]: http://arduino.cc/en/Reference/PinMode"
     ]
    },
    {
     "cell_type": "heading",
     "level": 4,
     "metadata": {},
     "source": [
      "Task - Set pin 13 as an ouput using `pin_mode`."
     ]
    },
    {
     "cell_type": "code",
     "collapsed": false,
     "input": [
      "board.pin_mode(pin=13, mode=1)"
     ],
     "language": "python",
     "metadata": {},
     "outputs": [
      {
       "metadata": {},
       "output_type": "pyout",
       "prompt_number": 43,
       "text": [
        "<arduino_rpc.protobuf_commands.PinModeResponse at 0x7f5f362f4ec0>"
       ]
      }
     ],
     "prompt_number": 43
    },
    {
     "cell_type": "heading",
     "level": 3,
     "metadata": {},
     "source": [
      "Step 3 - Turn LED on"
     ]
    },
    {
     "cell_type": "markdown",
     "metadata": {},
     "source": [
      "To turn the LED on, we use the [`digital_write`][digital_write] method to set the value of pin 13 to 1.\n",
      "\n",
      "[digital_write]: http://arduino.cc/en/Reference/DigitalWrite"
     ]
    },
    {
     "cell_type": "heading",
     "level": 4,
     "metadata": {},
     "source": [
      "Task - Turn on LED by writing a value of 1 to pin 13 using `digital_write`."
     ]
    },
    {
     "cell_type": "code",
     "collapsed": false,
     "input": [
      "board.digital_write(pin=13, value=1)"
     ],
     "language": "python",
     "metadata": {},
     "outputs": [
      {
       "metadata": {},
       "output_type": "pyout",
       "prompt_number": 44,
       "text": [
        "<arduino_rpc.protobuf_commands.DigitalWriteResponse at 0x7f5f362f4e50>"
       ]
      }
     ],
     "prompt_number": 44
    },
    {
     "cell_type": "markdown",
     "metadata": {},
     "source": [
      "<img style=\"width: 400px; \" src=\"images/IMG_20140710_150757.jpg\" />"
     ]
    },
    {
     "cell_type": "heading",
     "level": 3,
     "metadata": {},
     "source": [
      "Step 3 - Turn LED off"
     ]
    },
    {
     "cell_type": "markdown",
     "metadata": {},
     "source": [
      "To turn the LED off, we use the [`digital_write`][digital-write] method to set the value of pin 13 to 0.\n",
      "\n",
      "[digital-write]: http://arduino.cc/en/Reference/DigitalWrite"
     ]
    },
    {
     "cell_type": "heading",
     "level": 4,
     "metadata": {},
     "source": [
      "Task - Turn on LED by writing a value of 0 to pin 13 using `digital_write`."
     ]
    },
    {
     "cell_type": "code",
     "collapsed": false,
     "input": [
      "board.digital_write(pin=13, value=0)"
     ],
     "language": "python",
     "metadata": {},
     "outputs": [
      {
       "metadata": {},
       "output_type": "pyout",
       "prompt_number": 45,
       "text": [
        "<arduino_rpc.protobuf_commands.DigitalWriteResponse at 0x7f5f369894b0>"
       ]
      }
     ],
     "prompt_number": 45
    },
    {
     "cell_type": "markdown",
     "metadata": {},
     "source": [
      "<img style=\"width: 400px; \" src=\"images/IMG_20140710_150827.jpg\" />"
     ]
    },
    {
     "cell_type": "heading",
     "level": 3,
     "metadata": {},
     "source": [
      "Step 4 - Read an analog value based on the position of the potentiometer"
     ]
    },
    {
     "cell_type": "markdown",
     "metadata": {},
     "source": [
      "To read a value from the output of the potentiometer, we use the [`analog_read`][analog-read] method.\n",
      "\n",
      "[analog-read]: http://arduino.cc/en/Reference/AnalogRead"
     ]
    },
    {
     "cell_type": "heading",
     "level": 4,
     "metadata": {},
     "source": [
      "Q - What value is read when the potentiometer is turned all the way counter-clockwise?"
     ]
    },
    {
     "cell_type": "markdown",
     "metadata": {},
     "source": [
      "<img style=\"width: 400px; \" src=\"images/pot-rotate-counter-clockwise.png\" />"
     ]
    },
    {
     "cell_type": "code",
     "collapsed": false,
     "input": [
      "board.analog_read(pin=0)"
     ],
     "language": "python",
     "metadata": {},
     "outputs": [
      {
       "metadata": {},
       "output_type": "pyout",
       "prompt_number": 47,
       "text": [
        "1023"
       ]
      }
     ],
     "prompt_number": 47
    },
    {
     "cell_type": "heading",
     "level": 4,
     "metadata": {},
     "source": [
      "Q - What value is read when the potentiometer is turned all the way clockwise?"
     ]
    },
    {
     "cell_type": "markdown",
     "metadata": {},
     "source": [
      "<img style=\"width: 400px; \" src=\"images/pot-rotate-clockwise.png\" />"
     ]
    },
    {
     "cell_type": "code",
     "collapsed": false,
     "input": [
      "board.analog_read(pin=0)"
     ],
     "language": "python",
     "metadata": {},
     "outputs": [
      {
       "metadata": {},
       "output_type": "pyout",
       "prompt_number": 48,
       "text": [
        "0"
       ]
      }
     ],
     "prompt_number": 48
    },
    {
     "cell_type": "heading",
     "level": 4,
     "metadata": {},
     "source": [
      "Q - What value is read when the potentiometer is turned all the way clockwise?"
     ]
    },
    {
     "cell_type": "markdown",
     "metadata": {},
     "source": [
      "<img style=\"width: 400px; \" src=\"images/pot-rotate-middle.png\" />"
     ]
    },
    {
     "cell_type": "code",
     "collapsed": false,
     "input": [
      "board.analog_read(pin=0)"
     ],
     "language": "python",
     "metadata": {},
     "outputs": [
      {
       "metadata": {},
       "output_type": "pyout",
       "prompt_number": 49,
       "text": [
        "548"
       ]
      }
     ],
     "prompt_number": 49
    },
    {
     "cell_type": "heading",
     "level": 3,
     "metadata": {},
     "source": [
      "Step 5 - 1D Etch-a-sketch!"
     ]
    },
    {
     "cell_type": "markdown",
     "metadata": {},
     "source": [
      "When prototyping with a new sensor, it is sometimes helpful to observe the dynamic response of the sensor output to stimuli.  For example, this could help determine the range of values returned from a sensor in a prototype circuit, or could perhaps be used to select a threshold value for an experiment."
     ]
    },
    {
     "cell_type": "markdown",
     "metadata": {},
     "source": [
      "Below, we'll perform some continuous sampling of values from the analog pin connected to the potentiometer.  "
     ]
    },
    {
     "cell_type": "code",
     "collapsed": false,
     "input": [
      "%run analog_read.py"
     ],
     "language": "python",
     "metadata": {},
     "outputs": [
      {
       "html": [
        "\n",
        "<script src=\"http://nvd3.org/assets/lib/d3.v3.js\"></script>\n",
        "<script src=\"http://nvd3.org/assets/js/nv.d3.js\"></script>\n",
        "<style>\n",
        "\n",
        "svg {\n",
        "  padding-left: 50px;\n",
        "  margin-left: 50px;\n",
        "  font: 10px sans-serif;\n",
        "}\n",
        "\n",
        "div.chart {\n",
        " background-color: rgb(140,140,140);\n",
        " width: 800px;\n",
        " height: 500px;\n",
        "}\n",
        "\n",
        ".line {\n",
        "  fill: none;\n",
        "  stroke: rgb(136,189,230);\n",
        "  stroke-width: 1.5px;\n",
        "}\n",
        "\n",
        ".axis path,\n",
        ".axis line {\n",
        "  fill: none;\n",
        "  stroke: rgb(250,154,58);\n",
        "  shape-rendering: crispEdges;\n",
        "}\n",
        ".axis text {\n",
        "  fill: white;\n",
        "  shape-rendering: crispEdges;\n",
        "}\n",
        "</style>\n",
        "\n",
        "<script>\n",
        "window.RollingChart = function(d3_root, data, domain, interpolation) {\n",
        "  var self = this;\n",
        "  self.$data = data;\n",
        "  self.$d3_root = d3_root;\n",
        "//   var shape = {width: +d3_root.style('width').replace('px', ''),\n",
        "//                height: +d3_root.style('height').replace('px', '')};\n",
        "  var shape = {width: 700, height: 500};\n",
        "  console.log(shape);\n",
        "  self.$margin = {top: 15, right: 40, bottom: 50, left: 40},\n",
        "      self.$width = shape.width - self.$margin.right,\n",
        "      self.$height = shape.height - self.$margin.top - self.$margin.bottom;\n",
        "\n",
        "  self.x = d3.scale.linear().domain(domain.x).range([0, self.$width]);\n",
        "  self.y = d3.scale.linear().domain(domain.y).range([self.$height, 0]);\n",
        "\n",
        "  self.$line = d3.svg.line()\n",
        "      .interpolate(interpolation)\n",
        "      .x(function(d, i) { return self.x(i); })\n",
        "      .y(function(d, i) { return self.y(d); });\n",
        "\n",
        "  self.$svg = d3_root.append(\"svg\")\n",
        "      .attr(\"width\", self.$width + self.$margin.left + self.$margin.right)\n",
        "      .attr(\"height\", self.$height + self.$margin.top + self.$margin.bottom)\n",
        "      .style(\"margin-left\", self.$margin.left + \"px\")\n",
        "    .append(\"g\")\n",
        "      .attr(\"transform\", \"translate(\" + self.$margin.left + \",\" +\n",
        "            self.$margin.top + \")\");\n",
        "\n",
        "  self.$svg.append(\"defs\").append(\"clipPath\")\n",
        "      .attr(\"id\", \"clip\")\n",
        "    .append(\"rect\")\n",
        "      .attr(\"width\", self.$width)\n",
        "      .attr(\"height\", self.$height);\n",
        "\n",
        "  self.$svg.append(\"g\")\n",
        "      .attr(\"class\", \"y axis\")\n",
        "      .call(d3.svg.axis().scale(self.y).ticks(5).orient(\"left\"));\n",
        "\n",
        "  self.$path = self.$svg.append(\"g\")\n",
        "      .attr(\"clip-path\", \"url(#clip)\")\n",
        "    .append(\"path\")\n",
        "      .data([data])\n",
        "      .attr(\"class\", \"line\")\n",
        "      .attr(\"d\", self.$line);\n",
        "}\n",
        "</script>\n",
        "<script>\n",
        "require([\"widgets/js/widget\"], function(WidgetManager){\n",
        "    var RollingChartView = IPython.DOMWidgetView.extend({\n",
        "        render: function(){\n",
        "            var self = this;\n",
        "            /* Apply this class to the widget container to make it fit with the other built in widgets.*/\n",
        "            this.$el.addClass(\"chart\");\n",
        "            self.$d3_el = d3.select(this.$el[0]);\n",
        "            self.$d3_el.datum(self)\n",
        "            this.$control_group = self.$d3_el.append('div').attr('class', 'btn-group analog-read-control');\n",
        "            (this.$control_group\n",
        "             .append('button').attr('type', 'button')\n",
        "                 .attr('class', 'btn btn-default btn-lg analog-read-start')\n",
        "                 .on('click', $.proxy(this.start, self))\n",
        "             .append('i').attr('class', 'icon-play'));\n",
        "             //.append('span').attr('class', 'glyphicon glyphicon-play'));\n",
        "            (this.$control_group\n",
        "             .append('button').attr('type', 'button')\n",
        "                 .attr('class', 'btn btn-default btn-lg analog-read-stop')\n",
        "                 .on('click', $.proxy(this.stop, self))\n",
        "             .append('i').attr('class', 'icon-stop'));\n",
        "             //.append('span').attr('class', 'glyphicon glyphicon-stop'));\n",
        "\n",
        "            self.$chart = new RollingChart(self.$d3_el,\n",
        "                                           d3.range(100).map(function () { return 0; }),\n",
        "                                           {x: [1, 100 - 2], y: [0, 1024]},\n",
        "                                           \"basis\");\n",
        "        },\n",
        "\n",
        "        tick: function() {\n",
        "            var self = this;\n",
        "            var command = (self.model.get('board_variable') +\n",
        "                           '.analog_read(pin=' +\n",
        "                           self.model.get('analog_pin') + ')');\n",
        "            IPython.notebook.kernel\n",
        "            .execute(command,\n",
        "                     {\"iopub\": {\"output\": function (msg) {\n",
        "                         self.update_value(+msg.content.data['text/plain'].replace('L', '')); }}},\n",
        "                     {silent: false});\n",
        "        },\n",
        "\n",
        "        update: function() {\n",
        "          var self = this;\n",
        "          return RollingChartView.__super__.update.apply(this);\n",
        "        },\n",
        "\n",
        "        start: function () {\n",
        "            console.log(this);\n",
        "            this.model.set('stream', true);\n",
        "            this.touch();\n",
        "            this.update_value(this.model.get('value'));\n",
        "        },\n",
        "\n",
        "        stop: function () {\n",
        "            this.model.set('stream', false);\n",
        "            this.touch();\n",
        "        },\n",
        "\n",
        "        update_value: function (value) {\n",
        "            var self = this;\n",
        "            self.$chart.$data.push(+value);\n",
        "            this.model.set('value', +value);\n",
        "            this.touch();\n",
        "            // redraw the line, and then slide it to the left\n",
        "            var cycle_period_ms = +this.model.get('cycle_period_ms');\n",
        "            var transition = self.$chart.$path.attr(\"d\", self.$chart.$line)\n",
        "                .attr(\"transform\", null)\n",
        "              .transition()\n",
        "                .duration(cycle_period_ms)\n",
        "                .ease(\"linear\")\n",
        "                .attr(\"transform\", \"translate(\" + self.$chart.x(0) + \")\")\n",
        "            var stream = this.model.get('stream');\n",
        "            if (stream) {\n",
        "                transition.each(\"end\", $.proxy(self.tick, self));\n",
        "            }\n",
        "\n",
        "            // pop the old data point off the front\n",
        "            self.$chart.$data.shift();\n",
        "        }\n",
        "    });\n",
        "\n",
        "\n",
        "    // Register the DatePickerView with the widget manager.\n",
        "    WidgetManager.register_widget_view('RollingChartView', RollingChartView);\n",
        "});\n",
        "</script>\n"
       ],
       "metadata": {},
       "output_type": "display_data",
       "text": [
        "<IPython.core.display.HTML at 0x7f5f363a0750>"
       ]
      }
     ],
     "prompt_number": 19
    },
    {
     "cell_type": "code",
     "collapsed": false,
     "input": [
      "my_widget = RollingChartWidget(cycle_period_ms=100, analog_pin=0)\n",
      "my_widget"
     ],
     "language": "python",
     "metadata": {},
     "outputs": [],
     "prompt_number": 20
    }
   ],
   "metadata": {}
  }
 ]
}